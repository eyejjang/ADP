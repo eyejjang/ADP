{
  "cells": [
    {
      "cell_type": "code",
      "source": [
        "# 모든 변수를 포함한 full model\n",
        "print(\"full model = const, bp, bmi, age, sex\")\n",
        "R2 = fitted.rsquared\n",
        "n = fitted.nobs #number of observations\n",
        "p = fitted.df_model #설명변수의 개수\n",
        "constant = 'const' in fitted.params.keys() #절편 유무\n",
        "SSE = sum((fitted.resid)**2) #full model의 잔차제곱합\n",
        "MSE = SSE / (n-p-1) # fitted.mse_resid (MSE)\n",
        "\n",
        "adj_R2 = 1- (1-R2)*(n-1)/(n-p-1)\n",
        "print(\" 수정 결정계수: {:.3f}\".format(adj_R2))\n",
        "\n",
        "llf = -n/2*np.log(2*np.pi) - n/2*np.log(SSE / n) - n/2 #로그 가능도 값\n",
        "aic = -2*llf + 2*(p + constant)\n",
        "bic = -2*llf + np.log(n)*(p + constant)\n",
        "print(\" AIC: {:.1f}\".format(aic))\n",
        "print(\" BIC: {:.1f}\".format(bic))\n",
        "\n",
        "cp = SSE/MSE - n + 2*(p+1)\n",
        "print(\" Cp {:.1f} -> 변수+상수 개수의 합 {}\".format(cp, p+constant))"
      ],
      "metadata": {
        "colab": {
          "base_uri": "https://localhost:8080/"
        },
        "id": "LNFviNaZST27",
        "outputId": "e9992d7d-1ec6-4260-c50a-1bf43dedf57e"
      },
      "execution_count": 2,
      "outputs": [
        {
          "output_type": "stream",
          "name": "stdout",
          "text": [
            "full model = const, bp, bmi, age, sex\n",
            " 수정 결정계수: 0.395\n",
            " AIC: 4878.4\n",
            " BIC: 4898.8\n",
            " Cp 5.0 -> 변수+상수 개수의 합 5.0\n"
          ]
        }
      ]
    },
    {
      "cell_type": "code",
      "source": [
        "# 일부 변수만 포함한 후보 model\n",
        "print(\"후보 model = const, bp, bmi\")\n",
        "fitted2, summary2 = multiR_fitted(X.filter(['bp', 'bmi']), y)\n",
        "n = fitted2.nobs #number of observations\n",
        "p = fitted2.df_model #설명변수의 개수\n",
        "constant = 'const' in fitted2.params.keys() #절편 유무\n",
        "SSE = sum((fitted2.resid)**2) #후보 model의 잔차제곱합\n",
        "MSE = fitted.mse_resid # 비교모델의 MSE가 아닌 full모델의 MSE\n",
        "\n",
        "adj_R2 = 1- (1-R2)*(n-1)/(n-p-1)\n",
        "print(\" 수정 결정계수: {:.3f}\".format(adj_R2))\n",
        "\n",
        "llf = -n/2*np.log(2*np.pi) - n/2*np.log(SSE / n) - n/2 #로그 가능도 값\n",
        "aic = -2*llf + 2*(p + constant)\n",
        "bic = -2*llf + np.log(n)*(p + constant)\n",
        "print(\" AIC: {:.1f}\".format(aic))\n",
        "print(\" BIC: {:.1f}\".format(bic))\n",
        "\n",
        "cp = SSE/MSE - n + 2*(p+1)\n",
        "print(\" Cp {:.1f} -> 변수+상수 개수의 합 {}\".format(cp, p+constant))"
      ],
      "metadata": {
        "colab": {
          "base_uri": "https://localhost:8080/"
        },
        "id": "5FzxyG77SZVg",
        "outputId": "7474f720-5452-4f22-a8ed-cbbe148c2b07"
      },
      "execution_count": 3,
      "outputs": [
        {
          "output_type": "stream",
          "name": "stdout",
          "text": [
            "후보 model = const, bp, bmi\n",
            " 수정 결정계수: 0.398\n",
            " AIC: 4877.5\n",
            " BIC: 4889.8\n",
            " Cp 4.1 -> 변수+상수 개수의 합 3.0\n"
          ]
        }
      ]
    },
    {
      "cell_type": "code",
      "source": [
        "## 단계적 선택법\n",
        "from pandas import DataFrame\n",
        "import statsmodels.api as sm\n",
        "from itertools import combinations\n",
        "import numpy as np\n",
        "def stepwise_method(X, y, criterion='AIC'): #'BIC', 'CP', 'adj_R2'\n",
        "    result = DataFrame()\n",
        "    feature_combis = [] #변수 조합의 모든 경우의 수\n",
        "    for i in range(1, len(X.columns)+1):\n",
        "        feature_combis += list(combinations(X.columns, i))\n",
        "    feature_combis.reverse() #p개수 내림차순\n",
        "    \n",
        "    for j, feature_combi in enumerate(feature_combis):\n",
        "        X_ = X.filter(feature_combi)\n",
        "        X_ = sm.add_constant(X_) #절편 추가\n",
        "        model = sm.OLS(y, X_)\n",
        "        fitted = model.fit() #모델 적합\n",
        "        n = fitted.nobs #number of observations\n",
        "        p = fitted.df_model #설명변수의 개수\n",
        "        if j==0:\n",
        "            MSE = fitted.mse_resid # full모델의 MSE\n",
        "        \n",
        "        #각 기준값 계산\n",
        "        aic = fitted.aic\n",
        "        bic = fitted.bic\n",
        "        cp = sum((fitted.resid)**2)/MSE - (n-2*(p+1))\n",
        "        adj_R2 = fitted.rsquared_adj\n",
        "        \n",
        "        #각 기준값 입력\n",
        "        result.loc[j, 'feature_combi'] = \", \".join(list(fitted.params.keys()))\n",
        "        result.loc[j, 'AIC'] = aic\n",
        "        result.loc[j, 'BIC'] = bic\n",
        "        result.loc[j, 'CP'] = cp\n",
        "        result.loc[j, 'adj_R2'] = adj_R2\n",
        "        \n",
        "        if criterion in ['AIC', 'BIC']: #낮을수록 Best\n",
        "            result = result.sort_values(by=criterion, ascending = True)\n",
        "            best = result.iloc[0, 0]\n",
        "        elif criterion in ['adj_R2']: #높을수록 Best\n",
        "            result = result.sort_values(by=criterion, ascending = False)\n",
        "            best = result.iloc[0, 0]\n",
        "        elif criterion in ['CP']: #CP값이 작고, 변수의 개수와 유사할수록 Best\n",
        "            best_idx = np.abs(result['CP']-result['feature_combi'].apply(lambda x: x.count(',')+1)).sort_values(ascending=True).index\n",
        "            result = result.loc[best_idx, :]\n",
        "            best = result.iloc[0, 0]\n",
        "        else:\n",
        "            print(\"criterion options only cover AIC, BIC, CP, adj_R2.\")\n",
        "    return best, result"
      ],
      "metadata": {
        "id": "tU6Xwp1pSZZK"
      },
      "execution_count": 4,
      "outputs": []
    },
    {
      "cell_type": "code",
      "source": [
        "# AIC 기준으로 단계적 선택법을 통한 최적의 변수 선택 결과는 다음과 같다.\n",
        "best, result = stepwise_method(X, y, criterion='CP')\n",
        "print(\"최적의 변수 조합: \", best)\n",
        "print(f\"전체 결과값: \\n{result}\\n\")\n",
        "\n",
        "for c in ['AIC', 'BIC', 'CP', 'adj_R2']:\n",
        "    best, result = stepwise_method(X, y, c)\n",
        "    print(f\"기준 {c}에 의한 최적의 변수 조합 {best}\")"
      ],
      "metadata": {
        "colab": {
          "base_uri": "https://localhost:8080/"
        },
        "id": "6LElZOjWSZcu",
        "outputId": "5e3ce1f2-bcec-4684-eb46-dd7743781562"
      },
      "execution_count": 5,
      "outputs": [
        {
          "output_type": "stream",
          "name": "stdout",
          "text": [
            "최적의 변수 조합:  const, bmi, age, sex, bp\n",
            "전체 결과값: \n",
            "               feature_combi          AIC          BIC          CP    adj_R2\n",
            "0   const, bmi, age, sex, bp  4878.354373  4898.810922    5.000000  0.394771\n",
            "2        const, bmi, sex, bp  4876.695451  4893.060691    3.337350  0.395687\n",
            "8             const, bmi, bp  4877.487843  4889.761772    4.109030  0.393242\n",
            "3        const, bmi, age, bp  4879.321047  4895.686287    5.942980  0.392087\n",
            "10           const, bmi, age  4909.624337  4921.898267   37.300027  0.347484\n",
            "4       const, bmi, age, sex  4911.296550  4927.661789   38.949157  0.346479\n",
            "14                const, bmi  4912.038221  4920.220840   40.050156  0.342433\n",
            "9            const, bmi, sex  4913.987529  4926.261459   41.995333  0.341010\n",
            "1        const, age, sex, bp  5002.828421  5019.193660  147.769066  0.196111\n",
            "5             const, sex, bp  5002.163006  5014.436935  147.528327  0.195517\n",
            "6             const, age, bp  5003.526444  5015.800374  149.331118  0.193032\n",
            "11                 const, bp  5002.507604  5010.690223  148.631889  0.193076\n",
            "13                const, age  5082.445976  5090.628596  264.927364  0.033110\n",
            "7            const, age, sex  5084.394690  5096.668620  266.845807  0.031020\n",
            "12                const, sex  5097.511242  5105.693862  289.299148 -0.000414\n",
            "\n",
            "기준 AIC에 의한 최적의 변수 조합 const, bmi, sex, bp\n",
            "기준 BIC에 의한 최적의 변수 조합 const, bmi, bp\n",
            "기준 CP에 의한 최적의 변수 조합 const, bmi, age, sex, bp\n",
            "기준 adj_R2에 의한 최적의 변수 조합 const, bmi, sex, bp\n"
          ]
        }
      ]
    }
  ],
  "metadata": {
    "colab": {
      "name": "Colaboratory에 오신 것을 환영합니다",
      "toc_visible": true,
      "provenance": []
    },
    "kernelspec": {
      "display_name": "Python 3",
      "name": "python3"
    }
  },
  "nbformat": 4,
  "nbformat_minor": 0
}
